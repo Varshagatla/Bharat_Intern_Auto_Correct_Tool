{
 "cells": [
  {
   "cell_type": "markdown",
   "id": "4a550711",
   "metadata": {},
   "source": [
    "# Autocorrect Tool "
   ]
  },
  {
   "cell_type": "code",
   "execution_count": 5,
   "id": "aaaabfb2",
   "metadata": {},
   "outputs": [
    {
     "name": "stdout",
     "output_type": "stream",
     "text": [
      "The first 10 words in our dictionary are: \n",
      "['the', 'project', 'gutenberg', 'ebook', 'of', 'moby', 'dick', 'or', 'the', 'whale']\n",
      "The dictionary has 17647 words \n"
     ]
    }
   ],
   "source": [
    "import re\n",
    "from collections import Counter\n",
    "import numpy as np\n",
    "import pandas as pd\n",
    "\n",
    "w = [] #words\n",
    "with open('C:\\\\Users\\\\Varsha\\\\Downloads\\\\book.txt', 'r',encoding=\"utf8\") as f:\n",
    "    file_name_data = f.read()\n",
    "    file_name_data = file_name_data.lower()\n",
    "    w = re.findall('\\w+', file_name_data)\n",
    "\n",
    "v = set(w) #vocabulary\n",
    "print(f\"The first 10 words in our dictionary are: \\n{w[0:10]}\")\n",
    "print(f\"The dictionary has {len(v)} words \")"
   ]
  },
  {
   "cell_type": "code",
   "execution_count": 6,
   "id": "554438fc",
   "metadata": {},
   "outputs": [
    {
     "name": "stdout",
     "output_type": "stream",
     "text": [
      "There are 17647 key values pairs\n"
     ]
    }
   ],
   "source": [
    "def get_count(words):\n",
    "    word_count_dict = {}\n",
    "    for word in words:\n",
    "        if word in word_count_dict:\n",
    "            word_count_dict[word] += 1\n",
    "        else:\n",
    "            word_count_dict[word] = 1\n",
    "    return word_count_dict\n",
    "word_count_dict = get_count(w)\n",
    "print(f\"There are {len(word_count_dict)} key values pairs\")"
   ]
  },
  {
   "cell_type": "code",
   "execution_count": 7,
   "id": "77b396eb",
   "metadata": {},
   "outputs": [],
   "source": [
    "def get_probs(word_count_dict):\n",
    "    probs = {}\n",
    "    m = sum(word_count_dict.values())\n",
    "    for key in word_count_dict.keys():\n",
    "        probs[key] = word_count_dict[key] / m\n",
    "    return probs"
   ]
  },
  {
   "cell_type": "code",
   "execution_count": 8,
   "id": "93fba3d3",
   "metadata": {},
   "outputs": [],
   "source": [
    "def DeleteLetter(word):\n",
    "    delete_list = []\n",
    "    split_list = []\n",
    "    for i in range(len(word)):\n",
    "        split_list.append((word[0:i], word[i:]))\n",
    "    for a, b in split_list:\n",
    "        delete_list.append(a + b[1:])\n",
    "    return delete_list\n",
    "\n",
    "delete_word_l = DeleteLetter(word=\"cans\")"
   ]
  },
  {
   "cell_type": "code",
   "execution_count": 9,
   "id": "5b604a9c",
   "metadata": {},
   "outputs": [
    {
     "name": "stdout",
     "output_type": "stream",
     "text": [
      "['icet', 'Dcet', 'Diet', 'Dict', 'Dice']\n"
     ]
    }
   ],
   "source": [
    "print(DeleteLetter(\"Dicet\"))"
   ]
  },
  {
   "cell_type": "code",
   "execution_count": 10,
   "id": "80f22697",
   "metadata": {},
   "outputs": [
    {
     "name": "stdout",
     "output_type": "stream",
     "text": [
      "['ahbeat', 'hbaeat', 'haebat', 'habaet', 'habeta']\n"
     ]
    }
   ],
   "source": [
    "def SwitchLetter(word):\n",
    "    split_l = []\n",
    "    switch_l = []\n",
    "    for i in range(len(word)):\n",
    "        split_l.append((word[0:i], word[i:]))\n",
    "    switch_l = [a + b[1] + b[0] + b[2:] for a, b in split_l if len(b) >= 2]\n",
    "    return switch_l\n",
    "\n",
    "switch_word_l = SwitchLetter(word=\"habeat\")\n",
    "print(SwitchLetter(\"habeat\"))"
   ]
  },
  {
   "cell_type": "code",
   "execution_count": 11,
   "id": "2e82f458",
   "metadata": {},
   "outputs": [
    {
     "name": "stdout",
     "output_type": "stream",
     "text": [
      "['appetitum', 'bppetitum', 'cppetitum', 'dppetitum', 'eppetitum', 'fppetitum', 'gppetitum', 'hppetitum', 'ippetitum', 'jppetitum', 'kppetitum', 'lppetitum', 'mppetitum', 'nppetitum', 'oppetitum', 'pppetitum', 'qppetitum', 'rppetitum', 'sppetitum', 'tppetitum', 'uppetitum', 'vppetitum', 'wppetitum', 'xppetitum', 'yppetitum', 'zppetitum', 'aapetitum', 'abpetitum', 'acpetitum', 'adpetitum', 'aepetitum', 'afpetitum', 'agpetitum', 'ahpetitum', 'aipetitum', 'ajpetitum', 'akpetitum', 'alpetitum', 'ampetitum', 'anpetitum', 'aopetitum', 'appetitum', 'aqpetitum', 'arpetitum', 'aspetitum', 'atpetitum', 'aupetitum', 'avpetitum', 'awpetitum', 'axpetitum', 'aypetitum', 'azpetitum', 'apaetitum', 'apbetitum', 'apcetitum', 'apdetitum', 'apeetitum', 'apfetitum', 'apgetitum', 'aphetitum', 'apietitum', 'apjetitum', 'apketitum', 'apletitum', 'apmetitum', 'apnetitum', 'apoetitum', 'appetitum', 'apqetitum', 'apretitum', 'apsetitum', 'aptetitum', 'apuetitum', 'apvetitum', 'apwetitum', 'apxetitum', 'apyetitum', 'apzetitum', 'appatitum', 'appbtitum', 'appctitum', 'appdtitum', 'appetitum', 'appftitum', 'appgtitum', 'apphtitum', 'appititum', 'appjtitum', 'appktitum', 'appltitum', 'appmtitum', 'appntitum', 'appotitum', 'appptitum', 'appqtitum', 'apprtitum', 'appstitum', 'appttitum', 'apputitum', 'appvtitum', 'appwtitum', 'appxtitum', 'appytitum', 'appztitum', 'appeaitum', 'appebitum', 'appecitum', 'appeditum', 'appeeitum', 'appefitum', 'appegitum', 'appehitum', 'appeiitum', 'appejitum', 'appekitum', 'appelitum', 'appemitum', 'appenitum', 'appeoitum', 'appepitum', 'appeqitum', 'apperitum', 'appesitum', 'appetitum', 'appeuitum', 'appevitum', 'appewitum', 'appexitum', 'appeyitum', 'appezitum', 'appetatum', 'appetbtum', 'appetctum', 'appetdtum', 'appetetum', 'appetftum', 'appetgtum', 'appethtum', 'appetitum', 'appetjtum', 'appetktum', 'appetltum', 'appetmtum', 'appetntum', 'appetotum', 'appetptum', 'appetqtum', 'appetrtum', 'appetstum', 'appetttum', 'appetutum', 'appetvtum', 'appetwtum', 'appetxtum', 'appetytum', 'appetztum', 'appetiaum', 'appetibum', 'appeticum', 'appetidum', 'appetieum', 'appetifum', 'appetigum', 'appetihum', 'appetiium', 'appetijum', 'appetikum', 'appetilum', 'appetimum', 'appetinum', 'appetioum', 'appetipum', 'appetiqum', 'appetirum', 'appetisum', 'appetitum', 'appetiuum', 'appetivum', 'appetiwum', 'appetixum', 'appetiyum', 'appetizum', 'appetitam', 'appetitbm', 'appetitcm', 'appetitdm', 'appetitem', 'appetitfm', 'appetitgm', 'appetithm', 'appetitim', 'appetitjm', 'appetitkm', 'appetitlm', 'appetitmm', 'appetitnm', 'appetitom', 'appetitpm', 'appetitqm', 'appetitrm', 'appetitsm', 'appetittm', 'appetitum', 'appetitvm', 'appetitwm', 'appetitxm', 'appetitym', 'appetitzm', 'appetitua', 'appetitub', 'appetituc', 'appetitud', 'appetitue', 'appetituf', 'appetitug', 'appetituh', 'appetitui', 'appetituj', 'appetituk', 'appetitul', 'appetitum', 'appetitun', 'appetituo', 'appetitup', 'appetituq', 'appetitur', 'appetitus', 'appetitut', 'appetituu', 'appetituv', 'appetituw', 'appetitux', 'appetituy', 'appetituz']\n"
     ]
    }
   ],
   "source": [
    "def replace_letter(word):\n",
    "    split_l = []\n",
    "    replace_list = []\n",
    "    for i in range(len(word)):\n",
    "        split_l.append((word[0:i], word[i:]))\n",
    "    alphabets = 'abcdefghijklmnopqrstuvwxyz'\n",
    "    replace_list = [a + l + (b[1:] if len(b) > 1 else '') for a, b in split_l if b for l in alphabets]\n",
    "    return replace_list\n",
    "\n",
    "replace_l = replace_letter(word='appetitum')\n",
    "print(replace_letter(\"appetitum\"))"
   ]
  },
  {
   "cell_type": "code",
   "execution_count": 12,
   "id": "9c167a18",
   "metadata": {},
   "outputs": [
    {
     "name": "stdout",
     "output_type": "stream",
     "text": [
      "['aorationem', 'borationem', 'corationem', 'dorationem', 'eorationem', 'forationem', 'gorationem', 'horationem', 'iorationem', 'jorationem', 'korationem', 'lorationem', 'morationem', 'norationem', 'oorationem', 'porationem', 'qorationem', 'rorationem', 'sorationem', 'torationem', 'uorationem', 'vorationem', 'worationem', 'xorationem', 'yorationem', 'zorationem', 'oarationem', 'obrationem', 'ocrationem', 'odrationem', 'oerationem', 'ofrationem', 'ogrationem', 'ohrationem', 'oirationem', 'ojrationem', 'okrationem', 'olrationem', 'omrationem', 'onrationem', 'oorationem', 'oprationem', 'oqrationem', 'orrationem', 'osrationem', 'otrationem', 'ourationem', 'ovrationem', 'owrationem', 'oxrationem', 'oyrationem', 'ozrationem', 'oraationem', 'orbationem', 'orcationem', 'ordationem', 'oreationem', 'orfationem', 'orgationem', 'orhationem', 'oriationem', 'orjationem', 'orkationem', 'orlationem', 'ormationem', 'ornationem', 'oroationem', 'orpationem', 'orqationem', 'orrationem', 'orsationem', 'ortationem', 'oruationem', 'orvationem', 'orwationem', 'orxationem', 'oryationem', 'orzationem', 'oraationem', 'orabtionem', 'oractionem', 'oradtionem', 'oraetionem', 'oraftionem', 'oragtionem', 'orahtionem', 'oraitionem', 'orajtionem', 'oraktionem', 'oraltionem', 'oramtionem', 'orantionem', 'oraotionem', 'oraptionem', 'oraqtionem', 'orartionem', 'orastionem', 'orattionem', 'orautionem', 'oravtionem', 'orawtionem', 'oraxtionem', 'oraytionem', 'oraztionem', 'orataionem', 'oratbionem', 'oratcionem', 'oratdionem', 'orateionem', 'oratfionem', 'oratgionem', 'orathionem', 'oratiionem', 'oratjionem', 'oratkionem', 'oratlionem', 'oratmionem', 'oratnionem', 'oratoionem', 'oratpionem', 'oratqionem', 'oratrionem', 'oratsionem', 'orattionem', 'oratuionem', 'oratvionem', 'oratwionem', 'oratxionem', 'oratyionem', 'oratzionem', 'oratiaonem', 'oratibonem', 'oraticonem', 'oratidonem', 'oratieonem', 'oratifonem', 'oratigonem', 'oratihonem', 'oratiionem', 'oratijonem', 'oratikonem', 'oratilonem', 'oratimonem', 'oratinonem', 'oratioonem', 'oratiponem', 'oratiqonem', 'oratironem', 'oratisonem', 'oratitonem', 'oratiuonem', 'orativonem', 'oratiwonem', 'oratixonem', 'oratiyonem', 'oratizonem', 'oratioanem', 'oratiobnem', 'oratiocnem', 'oratiodnem', 'oratioenem', 'oratiofnem', 'oratiognem', 'oratiohnem', 'oratioinem', 'oratiojnem', 'oratioknem', 'oratiolnem', 'oratiomnem', 'orationnem', 'oratioonem', 'oratiopnem', 'oratioqnem', 'oratiornem', 'oratiosnem', 'oratiotnem', 'oratiounem', 'oratiovnem', 'oratiownem', 'oratioxnem', 'oratioynem', 'oratioznem', 'orationaem', 'orationbem', 'orationcem', 'orationdem', 'orationeem', 'orationfem', 'orationgem', 'orationhem', 'orationiem', 'orationjem', 'orationkem', 'orationlem', 'orationmem', 'orationnem', 'orationoem', 'orationpem', 'orationqem', 'orationrem', 'orationsem', 'orationtem', 'orationuem', 'orationvem', 'orationwem', 'orationxem', 'orationyem', 'orationzem', 'orationeam', 'orationebm', 'orationecm', 'orationedm', 'orationeem', 'orationefm', 'orationegm', 'orationehm', 'orationeim', 'orationejm', 'orationekm', 'orationelm', 'orationemm', 'orationenm', 'orationeom', 'orationepm', 'orationeqm', 'orationerm', 'orationesm', 'orationetm', 'orationeum', 'orationevm', 'orationewm', 'orationexm', 'orationeym', 'orationezm', 'orationema', 'orationemb', 'orationemc', 'orationemd', 'orationeme', 'orationemf', 'orationemg', 'orationemh', 'orationemi', 'orationemj', 'orationemk', 'orationeml', 'orationemm', 'orationemn', 'orationemo', 'orationemp', 'orationemq', 'orationemr', 'orationems', 'orationemt', 'orationemu', 'orationemv', 'orationemw', 'orationemx', 'orationemy', 'orationemz']\n"
     ]
    }
   ],
   "source": [
    "def insert_letter(word):\n",
    "    split_l = []\n",
    "    insert_list = []\n",
    "    for i in range(len(word) + 1):\n",
    "        split_l.append((word[0:i], word[i:]))\n",
    "    letters = 'abcdefghijklmnopqrstuvwxyz'\n",
    "    insert_list = [a + l + b for a, b in split_l for l in letters]\n",
    "    # print(split_l)\n",
    "    return insert_list\n",
    "print(insert_letter(\"orationem\"))"
   ]
  },
  {
   "cell_type": "code",
   "execution_count": 14,
   "id": "e734cd9d",
   "metadata": {},
   "outputs": [
    {
     "name": "stdout",
     "output_type": "stream",
     "text": [
      "Enter any word:varsha\n",
      "word 0: harsh, probability 0.000004\n",
      "word 1: martha, probability 0.000018\n",
      "word 2: marshy, probability 0.000009\n",
      "word 3: marsh, probability 0.000004\n",
      "word 4: marshal, probability 0.000013\n"
     ]
    }
   ],
   "source": [
    "def edit_one_letter(word, allow_switches=True):\n",
    "    edit_set1 = set()\n",
    "    edit_set1.update(DeleteLetter(word))\n",
    "    if allow_switches:\n",
    "        edit_set1.update(SwitchLetter(word))\n",
    "    edit_set1.update(replace_letter(word))\n",
    "    edit_set1.update(insert_letter(word))\n",
    "    return edit_set1\n",
    "\n",
    "# edit two letters\n",
    "def edit_two_letters(word, allow_switches=True):\n",
    "    edit_set2 = set()\n",
    "    edit_one = edit_one_letter(word, allow_switches=allow_switches)\n",
    "    for w in edit_one:\n",
    "        if w:\n",
    "            edit_two = edit_one_letter(w, allow_switches=allow_switches)\n",
    "            edit_set2.update(edit_two)\n",
    "    return edit_set2\n",
    "\n",
    "# get corrected word\n",
    "def get_corrections(word, probs, vocab, n=2):\n",
    "    suggested_word = []\n",
    "    best_suggestion = []\n",
    "    suggested_word = list(\n",
    "        (word in vocab and word) or edit_one_letter(word).intersection(vocab) or edit_two_letters(word).intersection(\n",
    "            vocab))\n",
    "    best_suggestion = [[s, probs[s]] for s in list(reversed(suggested_word))]\n",
    "    return best_suggestion\n",
    "\n",
    "my_word = input(\"Enter any word:\")\n",
    "probs = get_probs(word_count_dict)\n",
    "tmp_corrections = get_corrections(my_word, probs, v, 2)\n",
    "for i, word_prob in enumerate(tmp_corrections):\n",
    "    print(f\"word {i}: {word_prob[0]}, probability {word_prob[1]:.6f}\")"
   ]
  },
  {
   "cell_type": "code",
   "execution_count": null,
   "id": "d6db337a",
   "metadata": {},
   "outputs": [],
   "source": []
  }
 ],
 "metadata": {
  "kernelspec": {
   "display_name": "Python 3 (ipykernel)",
   "language": "python",
   "name": "python3"
  },
  "language_info": {
   "codemirror_mode": {
    "name": "ipython",
    "version": 3
   },
   "file_extension": ".py",
   "mimetype": "text/x-python",
   "name": "python",
   "nbconvert_exporter": "python",
   "pygments_lexer": "ipython3",
   "version": "3.10.11"
  }
 },
 "nbformat": 4,
 "nbformat_minor": 5
}
